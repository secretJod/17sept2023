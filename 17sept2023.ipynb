{
 "cells": [
  {
   "cell_type": "markdown",
   "id": "6191c67c-3528-42fb-8855-717f53812437",
   "metadata": {},
   "source": [
    "\n",
    "\n",
    "If else :\n",
    "\n",
    "\n",
    "Map :-\n",
    "\n",
    "How does the `map()` function differ from a list comprehension in Python, and when would you choose one over the other?\n",
    "Create a Python program that uses the `map()` function to convert a list of names to uppercase.\n",
    "Write a Python program that uses the `map()` function to calculate the length of each word in a list of strings.\n",
    "How can you use the `map()` function to apply a custom function to elements of multiple lists simultaneously in Python?\n",
    "Create a Python program that uses `map()` to convert a list of temperatures from Celsius to Fahrenheit.\n",
    "Write a Python program that uses the `map()` function to round each element of a list of floating-point numbers to the nearest integer.\n",
    "\n",
    "\n",
    "Reduce :-\n",
    "\n",
    "\n",
    "What is the `reduce()` function in Python, and what module should you import to use it? Provide an example of its basic usage.\n",
    "Write a Python program that uses the `reduce()` function to find the product of all elements in a list.\n",
    "Create a Python program that uses `reduce()` to find the maximum element in a list of numbers.\n",
    "How can you use the `reduce()` function to concatenate a list of strings into a single string?\n",
    "Write a Python program that calculates the factorial of a number using the `reduce()` function.\n",
    "Create a Python program that uses `reduce()` to find the GCD (Greatest Common Divisor) of a list of numbers.\n",
    "Write a Python program that uses the `reduce()` function to find the sum of the digits of a given number.\n",
    "\n",
    "Filter :-\n",
    "\n",
    "\n",
    "Explain the purpose of the `filter()` function in Python and provide an example of how it can be used to filter elements from an iterable.\n",
    "Write a Python program that uses the `filter()` function to select even numbers from a list of integers.\n",
    "Create a Python program that uses the `filter()` function to select names that start with a specific letter from a list of strings.\n",
    "Write a Python program that uses the `filter()` function to select prime numbers from a list of integers.\n",
    "How can you use the `filter()` function to remove None values from a list in Python?\n",
    "Create a Python program that uses `filter()` to select words longer than a certain length from a list of strings.\n",
    "Write a Python program that uses the `filter()` function to select elements greater than a specified threshold from a list of values.\n",
    "\n",
    "Recursion:-\n",
    "\n",
    "Explain the concept of recursion in Python. How does it differ from iteration?\n",
    "Write a Python program to calculate the factorial of a number using recursion.\n",
    "Create a recursive Python function to find the nth Fibonacci number.\n",
    "Write a recursive Python function to calculate the sum of all elements in a list.\n",
    "How can you prevent a recursive function from running indefinitely, causing a stack overflow error?\n",
    "Create a recursive Python function to find the greatest common divisor (GCD) of two numbers using the Euclidean algorithm.\n",
    "Write a recursive Python function to reverse a string.\n",
    "Create a recursive Python function to calculate the power of a number (x^n).\n",
    "Write a recursive Python function to find all permutations of a given string.\n",
    "Write a recursive Python function to check if a string is a palindrome.\n",
    "Create a recursive Python function to generate all possible combinations of a list of elements.\n",
    "\n",
    "\n",
    "\n",
    "\n",
    "Basics of Functions:\n",
    "\n",
    "What is a function in Python, and why is it used?\n",
    "How do you define a function in Python? Provide an example.\n",
    "Explain the difference between a function definition and a function call.\n",
    "Write a Python program that defines a function to calculate the sum of two numbers and then calls the function.\n",
    "What is a function signature, and what information does it typically include?\n",
    "Create a Python function that takes two arguments and returns their product.\n",
    "\n",
    "Function Parameters and Arguments:\n",
    "\n",
    "Explain the concepts of formal parameters and actual arguments in Python functions.\n",
    "Write a Python program that defines a function with default argument values.\n",
    "How do you use keyword arguments in Python function calls? Provide an example.\n",
    "Create a Python function that accepts a variable number of arguments and calculates their sum.\n",
    "What is the purpose of the `*args` and `**kwargs` syntax in function parameter lists?\n",
    "\n",
    "Return Values and Scoping:\n",
    "\n",
    "Describe the role of the `return` statement in Python functions and provide examples.\n",
    "Explain the concept of variable scope in Python, including local and global variables.\n",
    "Write a Python program that demonstrates the use of global variables within functions.\n",
    "Create a Python function that calculates the factorial of a number and returns it.\n",
    "How can you access variables defined outside a function from within the function?\n",
    "\n",
    "\n",
    "Lambda Functions and Higher-Order Functions:\n",
    "\n",
    "What are lambda functions in Python, and when are they typically used?\n",
    "Write a Python program that uses lambda functions to sort a list of tuples based on the second element.\n",
    "Explain the concept of higher-order functions in Python, and provide an example.\n",
    "Create a Python function that takes a list of numbers and a function as arguments, applying the function to each element in the list.\n",
    "\n",
    "Built-in Functions:\n",
    "\n",
    "Describe the role of built-in functions like `len()`, `max()`, and `min()` in Python.\n",
    "Write a Python program that uses the `map()` function to apply a function to each element of a list.\n",
    "How does the `filter()` function work in Python, and when would you use it?\n",
    "Create a Python program that uses the `reduce()` function to find the product of all elements in a list.\n",
    "\n",
    "Function Documentation and Best Practices:\n",
    "\n",
    "Explain the purpose of docstrings in Python functions and how to write them.\n",
    "Describe some best practices for naming functions and variables in Python, including naming conventions and guidelines.\n"
   ]
  },
  {
   "cell_type": "markdown",
   "id": "174f48cb-5a58-4995-bdc0-7c41beb8579a",
   "metadata": {},
   "source": [
    "1.Write a Python program to print numbers from 1 to 10 using a for loop."
   ]
  },
  {
   "cell_type": "code",
   "execution_count": 1,
   "id": "166fc5ec-6e66-47d3-be68-e29d8399da4c",
   "metadata": {},
   "outputs": [
    {
     "name": "stdout",
     "output_type": "stream",
     "text": [
      "1\n",
      "2\n",
      "3\n",
      "4\n",
      "5\n",
      "6\n",
      "7\n",
      "8\n",
      "9\n",
      "10\n"
     ]
    }
   ],
   "source": [
    "for  i in range(1,11):\n",
    "    print(i)"
   ]
  },
  {
   "cell_type": "markdown",
   "id": "a2e18518-b0fc-444a-8a5f-7f610d19982a",
   "metadata": {},
   "source": [
    "\n",
    "2.Explain the difference between a for loop and a while loop in Python."
   ]
  },
  {
   "cell_type": "code",
   "execution_count": null,
   "id": "6c9184a0-664b-47fd-a303-9ac9a3d89f11",
   "metadata": {},
   "outputs": [],
   "source": []
  },
  {
   "cell_type": "markdown",
   "id": "29f46495-41e4-433f-9401-f179c85c0149",
   "metadata": {},
   "source": [
    "\n",
    "Write a Python program to calculate the sum of all numbers from 1 to 100 using a for loop."
   ]
  },
  {
   "cell_type": "code",
   "execution_count": 2,
   "id": "565b15c9-d98c-4bc8-b8f1-1fb0bd417e2f",
   "metadata": {},
   "outputs": [
    {
     "name": "stdout",
     "output_type": "stream",
     "text": [
      "5050\n"
     ]
    }
   ],
   "source": [
    "sum_of_num=0\n",
    "for i in range(1,101):\n",
    "    sum_of_num+=i\n",
    "print(sum_of_num)"
   ]
  },
  {
   "cell_type": "markdown",
   "id": "0a495916-05be-4079-a7a5-f45a4bf36f4c",
   "metadata": {},
   "source": [
    "\n",
    "How do you iterate through a list using a for loop in Python?"
   ]
  },
  {
   "cell_type": "code",
   "execution_count": 3,
   "id": "7a5b5990-bca3-4a86-9f84-d50d754bcaf1",
   "metadata": {},
   "outputs": [
    {
     "name": "stdout",
     "output_type": "stream",
     "text": [
      "1\n",
      "2\n",
      "4\n",
      "56\n",
      "7\n"
     ]
    }
   ],
   "source": [
    "l=[1,2,4,56,7]\n",
    "for i in l:\n",
    "    print(i)"
   ]
  },
  {
   "cell_type": "markdown",
   "id": "11060e39-5917-49cf-a2b2-50309bb3dc7d",
   "metadata": {},
   "source": [
    "\n",
    "Write a Python program to find the product of all elements in a list using a for loop."
   ]
  },
  {
   "cell_type": "code",
   "execution_count": 4,
   "id": "26a46f20-62f7-4593-a4b3-f72f3838361f",
   "metadata": {},
   "outputs": [
    {
     "name": "stdout",
     "output_type": "stream",
     "text": [
      "53909175456\n"
     ]
    }
   ],
   "source": [
    "arr=[34,456,57,6778,9]\n",
    "product=1\n",
    "for i in arr:\n",
    "    product*=i\n",
    "print(product)"
   ]
  },
  {
   "cell_type": "markdown",
   "id": "dee8130c-3bb5-42a0-bed4-99c08cd2774c",
   "metadata": {},
   "source": [
    "\n",
    "Create a Python program that prints all even numbers from 1 to 20 using a for loop."
   ]
  },
  {
   "cell_type": "code",
   "execution_count": 5,
   "id": "310b4185-823f-4860-ac87-8fb026ea30bc",
   "metadata": {},
   "outputs": [
    {
     "name": "stdout",
     "output_type": "stream",
     "text": [
      "2\n",
      "4\n",
      "6\n",
      "8\n",
      "10\n",
      "12\n",
      "14\n",
      "16\n",
      "18\n",
      "20\n"
     ]
    }
   ],
   "source": [
    "for i in range(1,21):\n",
    "    if i%2==0:\n",
    "        print(i)"
   ]
  },
  {
   "cell_type": "markdown",
   "id": "ffebe9e8-8d0a-4776-b83f-838f551b5a1b",
   "metadata": {},
   "source": [
    "\n",
    "Write a Python program that calculates the factorial of a number using a for loop."
   ]
  },
  {
   "cell_type": "code",
   "execution_count": 6,
   "id": "c7982dcc-0250-41d7-a715-30019585cb67",
   "metadata": {},
   "outputs": [
    {
     "name": "stdout",
     "output_type": "stream",
     "text": [
      "120\n"
     ]
    }
   ],
   "source": [
    "i = 1\n",
    "fact_num = 5\n",
    "factorial = 1\n",
    "\n",
    "while i <= fact_num:\n",
    "    factorial *= i\n",
    "    i += 1\n",
    "\n",
    "print(factorial)\n"
   ]
  },
  {
   "cell_type": "markdown",
   "id": "9ffb8f8b-1d69-46b3-bc96-e8a16457f0fe",
   "metadata": {},
   "source": [
    "\n",
    "How can you iterate through the characters of a string using a for loop in Python?\n"
   ]
  },
  {
   "cell_type": "code",
   "execution_count": 7,
   "id": "423ac44d-0e03-49c4-927d-872e5c453f0c",
   "metadata": {},
   "outputs": [
    {
     "name": "stdout",
     "output_type": "stream",
     "text": [
      "h\n",
      "e\n",
      "l\n",
      "l\n",
      "o\n",
      " \n",
      "w\n",
      "o\n",
      "r\n",
      "l\n",
      "d\n"
     ]
    }
   ],
   "source": [
    "string='hello world'\n",
    "for i in string:\n",
    "    print(i)"
   ]
  },
  {
   "cell_type": "markdown",
   "id": "e9334633-6168-492a-a94c-cc933c847fe7",
   "metadata": {},
   "source": [
    "Write a Python program to find the largest number in a list using a for loop."
   ]
  },
  {
   "cell_type": "code",
   "execution_count": 8,
   "id": "97a6cef8-ab1e-4aa5-8cef-43bd35f821e6",
   "metadata": {},
   "outputs": [
    {
     "name": "stdout",
     "output_type": "stream",
     "text": [
      "234123\n"
     ]
    }
   ],
   "source": [
    "li=[3454,546,234123,56,567,23]\n",
    "maxi=li[0]\n",
    "for i in  li:\n",
    "    if i>maxi:\n",
    "        maxi=i\n",
    "print(maxi)"
   ]
  },
  {
   "cell_type": "markdown",
   "id": "54f09a45-2dbf-4072-b015-f4515dff45cc",
   "metadata": {},
   "source": [
    "\n",
    "Create a Python program that prints the Fibonacci sequence up to a specified limit using a for loop."
   ]
  },
  {
   "cell_type": "code",
   "execution_count": 9,
   "id": "b20633d0-b2bc-4b75-97f8-072477095a27",
   "metadata": {},
   "outputs": [
    {
     "name": "stdout",
     "output_type": "stream",
     "text": [
      "0 1 1 2 3 5 8 13 21 "
     ]
    }
   ],
   "source": [
    "a=0\n",
    "b=1\n",
    "for i in range(1,10):\n",
    "    print(a,end=' ')\n",
    "    c=a+b\n",
    "    a=b\n",
    "    b=c\n",
    "    "
   ]
  },
  {
   "cell_type": "markdown",
   "id": "060990e6-8368-42dd-a079-58f9291974f1",
   "metadata": {},
   "source": [
    "\n",
    "Write a Python program to count the number of vowels in a given string using a for loop."
   ]
  },
  {
   "cell_type": "code",
   "execution_count": 10,
   "id": "19e36b56-7129-416f-a35f-7615b20bbb00",
   "metadata": {},
   "outputs": [
    {
     "name": "stdout",
     "output_type": "stream",
     "text": [
      "Number of vowels in the given string: 2\n"
     ]
    }
   ],
   "source": [
    "def count_vowels(input_string):\n",
    "    vowels = \"aeiouAEIOU\"\n",
    "    vowel_count = 0\n",
    "\n",
    "    for char in input_string:\n",
    "        if char in vowels:\n",
    "            vowel_count += 1\n",
    "\n",
    "    return vowel_count\n",
    "\n",
    "user_input = input(\"Enter a string: \")\n",
    "\n",
    "result = count_vowels(user_input)\n",
    "\n",
    "print(f\"Number of vowels in the given string: {result}\")\n"
   ]
  },
  {
   "cell_type": "markdown",
   "id": "8b64c862-e35b-4945-98e2-e9bbefb2a0a8",
   "metadata": {},
   "source": [
    "\n",
    "Create a Python program that generates a multiplication table for a given number using a for loop."
   ]
  },
  {
   "cell_type": "code",
   "execution_count": 11,
   "id": "083d49a3-705f-4c3b-bbc0-17e22cdd50eb",
   "metadata": {},
   "outputs": [
    {
     "name": "stdout",
     "output_type": "stream",
     "text": [
      "5 X 1 = 5\n",
      "5 X 2 = 10\n",
      "5 X 3 = 15\n",
      "5 X 4 = 20\n",
      "5 X 5 = 25\n",
      "5 X 6 = 30\n",
      "5 X 7 = 35\n",
      "5 X 8 = 40\n",
      "5 X 9 = 45\n",
      "5 X 10 = 50\n"
     ]
    }
   ],
   "source": [
    "given_num=5\n",
    "for i in range(1,10+1):\n",
    "    result=given_num*i\n",
    "    print(given_num ,'X', i, '=',result)"
   ]
  },
  {
   "cell_type": "markdown",
   "id": "4254943e-b50b-414b-93f0-8be011740560",
   "metadata": {},
   "source": [
    "\n",
    "Write a Python program to reverse a list using a for loop"
   ]
  },
  {
   "cell_type": "code",
   "execution_count": 12,
   "id": "b0c9bffe-e055-447c-8640-3da38552c2c2",
   "metadata": {},
   "outputs": [
    {
     "name": "stdout",
     "output_type": "stream",
     "text": [
      "[4, 3, 2, 1]\n"
     ]
    }
   ],
   "source": [
    "l=[1,2,3,4]\n",
    "n=len(l)\n",
    "for i in range(n//2):\n",
    "    l[i],l[n-i-1]=l[n-i-1],l[i]\n",
    "print(l)"
   ]
  },
  {
   "cell_type": "markdown",
   "id": "0143c469-1935-4600-a6b4-f4661ee3ee83",
   "metadata": {},
   "source": [
    "Write a Python program to find the common elements between two lists using a for loop. "
   ]
  },
  {
   "cell_type": "code",
   "execution_count": 13,
   "id": "df4536ac-4671-4179-b3fe-10019b1478b8",
   "metadata": {},
   "outputs": [
    {
     "name": "stdout",
     "output_type": "stream",
     "text": [
      "[1, 3, 4, 5, 7]\n"
     ]
    }
   ],
   "source": [
    "l1=[1,2,3,4,5,6,7]\n",
    "l2=[3,4,5,7,1,4]\n",
    "common=[]\n",
    "for i in l1:\n",
    "    \n",
    "        if i in l2 :\n",
    "            common.append(i)\n",
    "print(common)\n",
    "            \n",
    "            "
   ]
  },
  {
   "cell_type": "markdown",
   "id": "1f387276-e48d-42d7-8d17-3f443eeb6a3b",
   "metadata": {},
   "source": [
    "Explain how to use a for loop to iterate through the keys and values of a dictionary in Python.\n"
   ]
  },
  {
   "cell_type": "code",
   "execution_count": 14,
   "id": "904afe13-0612-4acb-93ad-9c8d556cb701",
   "metadata": {},
   "outputs": [
    {
     "name": "stdout",
     "output_type": "stream",
     "text": [
      "Key: a, Value: 1\n",
      "Key: b, Value: 2\n",
      "Key: c, Value: 3\n",
      "Key: d, Value: 4\n"
     ]
    }
   ],
   "source": [
    "# Define a sample dictionary\n",
    "my_dict = {'a': 1, 'b': 2, 'c': 3, 'd': 4}\n",
    "\n",
    "# Iterate through the keys and values of the dictionary\n",
    "for key, value in my_dict.items():\n",
    "    print(f\"Key: {key}, Value: {value}\")\n"
   ]
  },
  {
   "cell_type": "markdown",
   "id": "3b5a7628-b4fa-4190-b524-a9e6a3cdca8b",
   "metadata": {},
   "source": [
    "\n",
    "Write a Python program to find the GCD (Greatest Common Divisor) of two numbers using a for loop.\n"
   ]
  },
  {
   "cell_type": "code",
   "execution_count": 15,
   "id": "a83cee5f-8be3-464e-be50-b59811c9f5c6",
   "metadata": {},
   "outputs": [
    {
     "ename": "ValueError",
     "evalue": "invalid literal for int() with base 10: ''",
     "output_type": "error",
     "traceback": [
      "\u001b[0;31m---------------------------------------------------------------------------\u001b[0m",
      "\u001b[0;31mValueError\u001b[0m                                Traceback (most recent call last)",
      "Cell \u001b[0;32mIn[15], line 15\u001b[0m\n\u001b[1;32m     13\u001b[0m \u001b[38;5;66;03m# Test the program\u001b[39;00m\n\u001b[1;32m     14\u001b[0m \u001b[38;5;28;01mif\u001b[39;00m \u001b[38;5;18m__name__\u001b[39m \u001b[38;5;241m==\u001b[39m \u001b[38;5;124m\"\u001b[39m\u001b[38;5;124m__main__\u001b[39m\u001b[38;5;124m\"\u001b[39m:\n\u001b[0;32m---> 15\u001b[0m     num1 \u001b[38;5;241m=\u001b[39m \u001b[38;5;28;43mint\u001b[39;49m\u001b[43m(\u001b[49m\u001b[38;5;28;43minput\u001b[39;49m\u001b[43m(\u001b[49m\u001b[38;5;124;43m\"\u001b[39;49m\u001b[38;5;124;43mEnter first number: \u001b[39;49m\u001b[38;5;124;43m\"\u001b[39;49m\u001b[43m)\u001b[49m\u001b[43m)\u001b[49m\n\u001b[1;32m     16\u001b[0m     num2 \u001b[38;5;241m=\u001b[39m \u001b[38;5;28mint\u001b[39m(\u001b[38;5;28minput\u001b[39m(\u001b[38;5;124m\"\u001b[39m\u001b[38;5;124mEnter second number: \u001b[39m\u001b[38;5;124m\"\u001b[39m))\n\u001b[1;32m     18\u001b[0m     \u001b[38;5;66;03m# Calculate GCD and print the result\u001b[39;00m\n",
      "\u001b[0;31mValueError\u001b[0m: invalid literal for int() with base 10: ''"
     ]
    }
   ],
   "source": [
    "def gcd(a, b):\n",
    "    # Find the minimum of two numbers\n",
    "    min_num = min(a, b)\n",
    "    gcd_result = 1\n",
    "\n",
    "    # Iterate from 1 to the minimum number\n",
    "    for i in range(1, min_num + 1):\n",
    "        if a % i == 0 and b % i == 0:\n",
    "            gcd_result = i  # Update gcd_result if i is a common divisor\n",
    "\n",
    "    return gcd_result\n",
    "\n",
    "# Test the program\n",
    "if __name__ == \"__main__\":\n",
    "    num1 = int(input(\"Enter first number: \"))\n",
    "    num2 = int(input(\"Enter second number: \"))\n",
    "\n",
    "    # Calculate GCD and print the result\n",
    "    result = gcd(num1, num2)\n",
    "    print(\"The GCD of\", num1, \"and\", num2, \"is:\", result)\n"
   ]
  },
  {
   "cell_type": "markdown",
   "id": "75367e87-b755-4ea2-94b8-c4b26bcdc8fc",
   "metadata": {},
   "source": [
    "Create a Python program that checks if a string is a palindrome using a for loop.\n"
   ]
  },
  {
   "cell_type": "code",
   "execution_count": null,
   "id": "14cac4b7-8724-41ec-9589-7db086e8ffa5",
   "metadata": {},
   "outputs": [
    {
     "name": "stdout",
     "output_type": "stream",
     "text": [
      "(True, 'yes the string is pallindromic')\n"
     ]
    }
   ],
   "source": [
    "def is_pallindrome(string):\n",
    "    string=string.lower()\n",
    "    string=''.join(char for char in string if char.isalnum())\n",
    "    start=0\n",
    "    end=(len(string)-1)\n",
    "    for _ in range(len(string)//2):\n",
    "        if string[start]!=string[end]:\n",
    "            return False\n",
    "        start+=1\n",
    "        end-=1\n",
    "    return True, 'yes the string is pallindromic'\n",
    "\n",
    "\n",
    "string='madam'\n",
    "print(is_pallindrome(string))\n"
   ]
  },
  {
   "cell_type": "markdown",
   "id": "694c8a3e-89d9-4efe-a7f3-6112be707d1c",
   "metadata": {},
   "source": [
    "Write a Python program to remove duplicates from a list using a for loop.\n"
   ]
  },
  {
   "cell_type": "code",
   "execution_count": null,
   "id": "3c535215-ea8d-42a5-8c93-ccf9bcf0be72",
   "metadata": {},
   "outputs": [
    {
     "name": "stdout",
     "output_type": "stream",
     "text": [
      "[1, 4, 2, 5, 6]\n"
     ]
    }
   ],
   "source": [
    "def dublicate(l):\n",
    "    s=len(l)\n",
    "    for i in range(s-1,-1,-1):\n",
    "        for j in range(i-1,-1,-1):\n",
    "            if l[i]==l[j]:\n",
    "                l.pop(j)\n",
    "    return l\n",
    "\n",
    "l=[1,2,4,5,2,5,6]\n",
    "print(dublicate(l))\n"
   ]
  },
  {
   "cell_type": "markdown",
   "id": "a04f6faa-b7ba-4839-b81b-a66187a18ff6",
   "metadata": {},
   "source": [
    "Create a Python program that counts the number of words in a sentence using a for loop."
   ]
  },
  {
   "cell_type": "code",
   "execution_count": null,
   "id": "b0a2e28f-385f-4134-9586-e20841cf3212",
   "metadata": {},
   "outputs": [
    {
     "name": "stdout",
     "output_type": "stream",
     "text": [
      "168\n"
     ]
    }
   ],
   "source": [
    "sentence='''hey this is karan \n",
    "i am percusing my career in bsc cs right now \n",
    "and further i am looking for a work as a role of data scientist\n",
    "hope so that i will get a job very soon'''\n",
    "count=0\n",
    "for char in sentence:\n",
    "    count+=1\n",
    "print(count)"
   ]
  },
  {
   "cell_type": "markdown",
   "id": "c5bad367-8020-48ff-920f-e352e608e01f",
   "metadata": {},
   "source": [
    "\n",
    "Write a Python program to find the sum of all odd numbers from 1 to 50 using a for loop."
   ]
  },
  {
   "cell_type": "code",
   "execution_count": null,
   "id": "e0d30ca5-edfd-44a7-8cd3-379a62d9cfb4",
   "metadata": {},
   "outputs": [
    {
     "name": "stdout",
     "output_type": "stream",
     "text": [
      "625\n"
     ]
    }
   ],
   "source": [
    "s=0\n",
    "for i in range(1,51):\n",
    "    if i%2!=0:\n",
    "        s+=i\n",
    "print(s)"
   ]
  },
  {
   "cell_type": "markdown",
   "id": "0283ea73-bdbd-4fe4-b58c-5fff921fbd43",
   "metadata": {},
   "source": [
    "Write a Python program that checks if a given year is a leap year using a for loop.\n"
   ]
  },
  {
   "cell_type": "code",
   "execution_count": null,
   "id": "f040c932-fc17-43b4-9464-6d1826678e93",
   "metadata": {},
   "outputs": [
    {
     "name": "stdout",
     "output_type": "stream",
     "text": [
      "True\n"
     ]
    }
   ],
   "source": [
    "def leap_year(year):\n",
    "    if year%4==0 and year%100!=0 or year%400==0:\n",
    "        return True\n",
    "    else:\n",
    "        return False\n",
    "print(leap_year(3024))"
   ]
  },
  {
   "cell_type": "code",
   "execution_count": null,
   "id": "d642ec96-6d18-4091-8f3d-5090e4192328",
   "metadata": {},
   "outputs": [
    {
     "name": "stdout",
     "output_type": "stream",
     "text": [
      "1.0\n",
      "1.4142135623730951\n",
      "1.7320508075688772\n",
      "2.0\n",
      "2.23606797749979\n",
      "2.449489742783178\n",
      "2.6457513110645907\n",
      "2.8284271247461903\n",
      "3.0\n",
      "3.1622776601683795\n"
     ]
    }
   ],
   "source": [
    "\n",
    "# Create a Python program that calculates the square root of a number using a for loop.\n",
    "s,e=1,10\n",
    "for i in range(s,e+1):\n",
    "    print(i**0.5)\n",
    "    \n",
    "   "
   ]
  },
  {
   "cell_type": "code",
   "execution_count": null,
   "id": "100e10ce-d56f-4651-b4c9-b8ac49645712",
   "metadata": {},
   "outputs": [],
   "source": [
    "# Write a Python program to find the LCM (Least Common Multiple) of two numbers using a for loop."
   ]
  },
  {
   "cell_type": "code",
   "execution_count": null,
   "id": "3dabb317-6a87-4f2e-b843-3ff6b51b5435",
   "metadata": {},
   "outputs": [
    {
     "name": "stdout",
     "output_type": "stream",
     "text": [
      "4 6\n"
     ]
    }
   ],
   "source": [
    "def gcd(x,y):\n",
    "    if y==0:\n",
    "        return x\n",
    "    else:\n",
    "        return gcd(y,x%y)\n",
    "def lcm(x,y):\n",
    "    return x*y//gcd(x,y)\n",
    "print(4,6)"
   ]
  },
  {
   "cell_type": "code",
   "execution_count": null,
   "id": "1643fc63-b32b-47c9-ae84-71c61d107564",
   "metadata": {},
   "outputs": [
    {
     "name": "stdout",
     "output_type": "stream",
     "text": [
      "Negative\n"
     ]
    }
   ],
   "source": [
    "\n",
    "# Write a Python program to check if a number is positive, negative, or zero using an \n",
    "def check(n):\n",
    "    if n>0:\n",
    "        return 'positive'\n",
    "    if n<0:\n",
    "        return 'Negative'\n",
    "    else:\n",
    "        return 'it is zero'\n",
    "print(check(-3))"
   ]
  },
  {
   "cell_type": "code",
   "execution_count": null,
   "id": "ef9a8c1e-7001-4e80-888e-0929425d8f2a",
   "metadata": {},
   "outputs": [
    {
     "name": "stdout",
     "output_type": "stream",
     "text": [
      "it is odd\n"
     ]
    }
   ],
   "source": [
    "\n",
    "# Create a Python program that checks if a given number is even or odd using an if-else statement.\n",
    "def check(n):\n",
    "    if n%2==0:\n",
    "        return 'it is even'\n",
    "    else:\n",
    "        return 'it is odd'\n",
    "print(check(3))\n",
    "        "
   ]
  },
  {
   "cell_type": "code",
   "execution_count": null,
   "id": "b8684bf3-da40-4256-9313-f6586d5c541b",
   "metadata": {},
   "outputs": [
    {
     "name": "stdout",
     "output_type": "stream",
     "text": [
      "SOP\n"
     ]
    }
   ],
   "source": [
    "\n",
    "# How can you use nested if-else statements in Python, and provide an example?\n",
    "def use(string):\n",
    "    if 'abcd' in string:\n",
    "        return 'ABCD'\n",
    "    elif 'efgh' in string:\n",
    "        return 'EFGH'\n",
    "    elif 'ijkl' in string:\n",
    "        return 'IJKL'\n",
    "    else:\n",
    "        return 'SOP'\n",
    "print(use('karan'))"
   ]
  },
  {
   "cell_type": "code",
   "execution_count": null,
   "id": "a8d8b475-7103-48cd-9647-fe7c198710c5",
   "metadata": {},
   "outputs": [
    {
     "name": "stdout",
     "output_type": "stream",
     "text": [
      "c is greater\n"
     ]
    }
   ],
   "source": [
    "# Write a Python program to determine the largest of three numbers using if-else.\n",
    "\n",
    "def determine(a,b,c):\n",
    "    if a>b and a>c:\n",
    "        return 'a is  greater'\n",
    "    elif b>a and b>c:\n",
    "        return 'b is greater'\n",
    "    else:\n",
    "        return 'c is greater'\n",
    "a,b,c=34,45,56\n",
    "print(determine(a,b,c))"
   ]
  },
  {
   "cell_type": "code",
   "execution_count": null,
   "id": "36579ca4-08a4-48e9-874f-2bdbb833e10a",
   "metadata": {},
   "outputs": [
    {
     "name": "stdout",
     "output_type": "stream",
     "text": [
      "1\n"
     ]
    }
   ],
   "source": [
    "\n",
    "# Write a Python program that calculates the absolute value of a number using if-else.\n",
    "def ab(num):\n",
    "    if num>0:\n",
    "        return num\n",
    "    elif num==0:\n",
    "        return 0\n",
    "    else:\n",
    "        return abs(num)\n",
    "print(ab(-1))"
   ]
  },
  {
   "cell_type": "code",
   "execution_count": null,
   "id": "2a16d166-b6b0-4f4f-b560-39bb71a5deb4",
   "metadata": {},
   "outputs": [
    {
     "name": "stdout",
     "output_type": "stream",
     "text": [
      "Enter a character:  k\n"
     ]
    },
    {
     "name": "stdout",
     "output_type": "stream",
     "text": [
      "k is a consonant.\n"
     ]
    }
   ],
   "source": [
    "\n",
    "# if-else statement.Create a Python program that checks if a given character is a vowel or consonant using if-else.\n",
    "# Function to check if a character is a vowel or consonant\n",
    "def check_vowel_consonant(char):\n",
    "    # Convert the character to lowercase to handle uppercase characters\n",
    "    char = char.lower()\n",
    "\n",
    "    # Check if the character is a vowel\n",
    "    if char == 'a' or char == 'e' or char == 'i' or char == 'o' or char == 'u':\n",
    "        print(f\"{char} is a vowel.\")\n",
    "    # Check if the character is a consonant (assuming it's an alphabetical character)\n",
    "    elif char.isalpha():\n",
    "        print(f\"{char} is a consonant.\")\n",
    "    # If the character is not a letter, it's neither a vowel nor a consonant\n",
    "    else:\n",
    "        print(f\"{char} is neither a vowel nor a consonant.\")\n",
    "\n",
    "# Test the function with a character\n",
    "character = input(\"Enter a character: \")\n",
    "check_vowel_consonant(character)\n"
   ]
  },
  {
   "cell_type": "code",
   "execution_count": null,
   "id": "58cf3c06-d68b-42ea-ab30-26db84861202",
   "metadata": {},
   "outputs": [
    {
     "name": "stdout",
     "output_type": "stream",
     "text": [
      "Please enter your age:  45\n"
     ]
    },
    {
     "name": "stdout",
     "output_type": "stream",
     "text": [
      "You are eligible to vote.\n"
     ]
    }
   ],
   "source": [
    "\n",
    "# Write a Python program to determine if a user is eligible to vote based on their age using if-else.\n",
    "# Function to determine if the user is eligible to vote\n",
    "def check_voting_eligibility(age):\n",
    "    # Check if the age is greater than or equal to the voting age\n",
    "    if age >= 18:\n",
    "        print(\"You are eligible to vote.\")\n",
    "    else:\n",
    "        print(\"You are not eligible to vote yet.\")\n",
    "\n",
    "# Get the user's age as input\n",
    "age = int(input(\"Please enter your age: \"))\n",
    "\n",
    "# Check the eligibility for voting using the function\n",
    "check_voting_eligibility(age)\n"
   ]
  },
  {
   "cell_type": "code",
   "execution_count": null,
   "id": "552fed70-584d-4605-b7c9-42df87e6d94d",
   "metadata": {},
   "outputs": [
    {
     "name": "stdout",
     "output_type": "stream",
     "text": [
      "Enter the purchase amount:  676\n"
     ]
    },
    {
     "name": "stdout",
     "output_type": "stream",
     "text": [
      "Discount amount: $33.80\n"
     ]
    }
   ],
   "source": [
    "\n",
    "# Create a Python program that calculates the discount amount based on the purchase amount using if-else.\n",
    "def calculate_discount(purchase_amount):\n",
    "    if purchase_amount > 1000:\n",
    "        discount = purchase_amount * 0.1\n",
    "    elif purchase_amount > 500:\n",
    "        discount = purchase_amount * 0.05\n",
    "    else:\n",
    "        discount = 0\n",
    "    return discount\n",
    "\n",
    "if __name__ == \"__main__\":\n",
    "    try:\n",
    "        purchase_amount = float(input(\"Enter the purchase amount: \"))\n",
    "        if purchase_amount < 0:\n",
    "            print(\"Invalid amount entered. Please enter a positive value.\")\n",
    "        else:\n",
    "            discount_amount = calculate_discount(purchase_amount)\n",
    "            print(f\"Discount amount: ${discount_amount:.2f}\")\n",
    "    except ValueError:\n",
    "        print(\"Invalid input. Please enter a valid number.\")\n"
   ]
  },
  {
   "cell_type": "code",
   "execution_count": null,
   "id": "3b7e1684-2155-430b-b8b8-1021c683b9f0",
   "metadata": {},
   "outputs": [
    {
     "name": "stdout",
     "output_type": "stream",
     "text": [
      "Enter a number:  7\n",
      "Enter the lower limit of the range:  87\n",
      "Enter the upper limit of the range:  99\n"
     ]
    },
    {
     "name": "stdout",
     "output_type": "stream",
     "text": [
      "7.0 is not within the specified range [87.0, 99.0].\n"
     ]
    }
   ],
   "source": [
    "\n",
    "# Write a Python program to check if a number is within a specified range using if-else.\n",
    "def check_within_range(number, lower_limit, upper_limit):\n",
    "    if number >= lower_limit and number <= upper_limit:\n",
    "        return True\n",
    "    else:\n",
    "        return False\n",
    "\n",
    "if __name__ == \"__main__\":\n",
    "    try:\n",
    "        number = float(input(\"Enter a number: \"))\n",
    "        lower_limit = float(input(\"Enter the lower limit of the range: \"))\n",
    "        upper_limit = float(input(\"Enter the upper limit of the range: \"))\n",
    "        \n",
    "        if lower_limit > upper_limit:\n",
    "            print(\"Invalid range: Lower limit should be less than or equal to the upper limit.\")\n",
    "        else:\n",
    "            if check_within_range(number, lower_limit, upper_limit):\n",
    "                print(f\"{number} is within the specified range [{lower_limit}, {upper_limit}].\")\n",
    "            else:\n",
    "                print(f\"{number} is not within the specified range [{lower_limit}, {upper_limit}].\")\n",
    "    except ValueError:\n",
    "        print(\"Invalid input. Please enter valid numbers.\")\n"
   ]
  },
  {
   "cell_type": "code",
   "execution_count": null,
   "id": "02f92985-244b-4c4c-be78-cec5bb75495b",
   "metadata": {},
   "outputs": [
    {
     "name": "stdout",
     "output_type": "stream",
     "text": [
      "Enter the student's score:  56\n"
     ]
    },
    {
     "name": "stdout",
     "output_type": "stream",
     "text": [
      "The student's grade is: c\n"
     ]
    }
   ],
   "source": [
    "\n",
    "# Create a Python program that determines the grade of a student based on their score using if-else.\n",
    "def calculate_grade(score):\n",
    "    if score >90:\n",
    "        return 'A'\n",
    "    if score >60 and score<90:\n",
    "        return \"B\"\n",
    "    elif score >45 and score<60:\n",
    "        return \"c\"\n",
    "    else:\n",
    "        return 'Fail'\n",
    "\n",
    "score = float(input(\"Enter the student's score: \"))\n",
    "if score < 0 or score > 100:\n",
    "    print(\"Invalid score entered. Score must be between 0 and 100.\")\n",
    "else:\n",
    "    grade = calculate_grade(score)\n",
    "    print(f\"The student's grade is: {grade}\")\n",
    "   "
   ]
  },
  {
   "cell_type": "code",
   "execution_count": null,
   "id": "240d766e-5f9a-4dc2-b205-28ce5294adb0",
   "metadata": {},
   "outputs": [],
   "source": [
    "\n",
    "Create a Python program that calculates the BMI (Body Mass Index) of a person based on their weight and height using if-else.\n",
    "How can you use the \"filter()\" function with if-else statements to filter elements from a list?\n",
    "Write a Python program to determine if a given number is prime or not using if-else."
   ]
  },
  {
   "cell_type": "code",
   "execution_count": null,
   "id": "3c67ad12-bb4b-4dd8-902e-a3e3d84dd02f",
   "metadata": {},
   "outputs": [
    {
     "name": "stdout",
     "output_type": "stream",
     "text": [
      "empty\n"
     ]
    }
   ],
   "source": [
    "\n",
    "# Write a Python program to check if a string is empty or not using if-else.\n",
    "def empty(string):\n",
    "    if string:\n",
    "        print(\"no empty\")\n",
    "    else:\n",
    "        print(\"empty\")\n",
    "(empty(\"\"))\n"
   ]
  },
  {
   "cell_type": "code",
   "execution_count": null,
   "id": "66d44be1-0cf0-4f10-9274-a604dd54db8a",
   "metadata": {},
   "outputs": [
    {
     "name": "stdout",
     "output_type": "stream",
     "text": [
      "Enter the length of the first side:  50\n",
      "Enter the length of the second side:  50\n",
      "Enter the length of the third side:  50\n"
     ]
    },
    {
     "name": "stdout",
     "output_type": "stream",
     "text": [
      "The triangle with sides 50.0, 50.0, and 50.0 is a Equilateral Triangle.\n"
     ]
    }
   ],
   "source": [
    "\n",
    "# Create a Python program that identifies the type of a triangle (e.g., equilateral, isosceles, or scalene) based on input values using if-else.\n",
    "def identify_triangle_type(side1, side2, side3):\n",
    "    if side1 == side2 == side3:\n",
    "        return \"Equilateral Triangle\"\n",
    "    elif side1 == side2 or side1 == side3 or side2 == side3:\n",
    "        return \"Isosceles Triangle\"\n",
    "    else:\n",
    "        return \"Scalene Triangle\"\n",
    "\n",
    "if __name__ == \"__main__\":\n",
    "    try:\n",
    "        side1 = float(input(\"Enter the length of the first side: \"))\n",
    "        side2 = float(input(\"Enter the length of the second side: \"))\n",
    "        side3 = float(input(\"Enter the length of the third side: \"))\n",
    "\n",
    "        if side1 <= 0 or side2 <= 0 or side3 <= 0:\n",
    "            print(\"Invalid side length. Side length must be positive.\")\n",
    "        elif side1 + side2 <= side3 or side1 + side3 <= side2 or side2 + side3 <= side1:\n",
    "            print(\"Invalid side lengths. They do not form a triangle.\")\n",
    "        else:\n",
    "            triangle_type = identify_triangle_type(side1, side2, side3)\n",
    "            print(f\"The triangle with sides {side1}, {side2}, and {side3} is a {triangle_type}.\")\n",
    "    except ValueError:\n",
    "        print(\"Invalid input. Please enter valid numbers for side lengths.\")\n"
   ]
  },
  {
   "cell_type": "code",
   "execution_count": null,
   "id": "2c831978-1f06-473a-85db-0359ee507682",
   "metadata": {},
   "outputs": [
    {
     "name": "stdout",
     "output_type": "stream",
     "text": [
      "Enter a number (1-7) to determine the day of the week:  5\n"
     ]
    },
    {
     "name": "stdout",
     "output_type": "stream",
     "text": [
      "Friday\n"
     ]
    }
   ],
   "source": [
    "# Write a Python program to determine the day of the week based on a user-provided number using if-else.\n",
    "def determine_day_of_week(day_number):\n",
    "    if day_number == 1:\n",
    "        return \"Monday\"\n",
    "    elif day_number == 2:\n",
    "        return \"Tuesday\"\n",
    "    elif day_number == 3:\n",
    "        return \"Wednesday\"\n",
    "    elif day_number == 4:\n",
    "        return \"Thursday\"\n",
    "    elif day_number == 5:\n",
    "        return \"Friday\"\n",
    "    elif day_number == 6:\n",
    "        return \"Saturday\"\n",
    "    elif day_number == 7:\n",
    "        return \"Sunday\"\n",
    "    else:\n",
    "        return \"Invalid day number. Please enter a number between 1 and 7.\"\n",
    "\n",
    "if __name__ == \"__main__\":\n",
    "    try:\n",
    "        day_number = int(input(\"Enter a number (1-7) to determine the day of the week: \"))\n",
    "        print(determine_day_of_week(day_number))\n",
    "    except ValueError:\n",
    "        print(\"Invalid input. Please enter a valid number.\")\n"
   ]
  },
  {
   "cell_type": "code",
   "execution_count": null,
   "id": "466f5fdc-1e34-44bb-a6f8-d651c90c3089",
   "metadata": {},
   "outputs": [
    {
     "name": "stdout",
     "output_type": "stream",
     "text": [
      "Enter a year:  454545\n"
     ]
    },
    {
     "name": "stdout",
     "output_type": "stream",
     "text": [
      "454545 is not a leap year.\n"
     ]
    }
   ],
   "source": [
    "# Create a Python program that checks if a given year is a leap year using both if-else and a function.\n",
    "def is_leap_year(year):\n",
    "    if (year % 4 == 0 and year % 100 != 0) or (year % 400 == 0):\n",
    "        return True\n",
    "    else:\n",
    "        return False\n",
    "\n",
    "if __name__ == \"__main__\":\n",
    "    try:\n",
    "        year = int(input(\"Enter a year: \"))\n",
    "        if year <= 0:\n",
    "            print(\"Invalid year entered. Please enter a positive integer.\")\n",
    "        else:\n",
    "            if is_leap_year(year):\n",
    "                print(f\"{year} is a leap year.\")\n",
    "            else:\n",
    "                print(f\"{year} is not a leap year.\")\n",
    "    except ValueError:\n",
    "        print(\"Invalid input. Please enter a valid year.\")\n"
   ]
  },
  {
   "cell_type": "code",
   "execution_count": null,
   "id": "3c6a9e8d-790a-4e60-ab42-f30fcf498e4f",
   "metadata": {},
   "outputs": [
    {
     "name": "stdout",
     "output_type": "stream",
     "text": [
      "x is greater than y\n"
     ]
    }
   ],
   "source": [
    "# How do you use the \"assert\" statement in Python to add debugging checks within if-else blocks?\n",
    "x = 10\n",
    "y = 5\n",
    "\n",
    "if x > y:\n",
    "    assert x > y, \"x should be greater than y\"\n",
    "    print(\"x is greater than y\")\n",
    "else:\n",
    "    assert y > x, \"y should be greater than x\"\n",
    "    print(\"y is greater than x\")\n"
   ]
  },
  {
   "cell_type": "code",
   "execution_count": null,
   "id": "1b0ded41-a9e2-44f8-b332-3fbabde4eb36",
   "metadata": {},
   "outputs": [
    {
     "name": "stdout",
     "output_type": "stream",
     "text": [
      "Enter your age:  456\n"
     ]
    },
    {
     "name": "stdout",
     "output_type": "stream",
     "text": [
      "Congratulations! You are eligible for a senior citizen discount.\n"
     ]
    }
   ],
   "source": [
    "# Create a Python program that determines the eligibility of a person for a senior citizen discount based on age using if-else.\n",
    "def check_senior_citizen_discount(age):\n",
    "    if age >= 60:\n",
    "        return True\n",
    "    else:\n",
    "        return False\n",
    "\n",
    "if __name__ == \"__main__\":\n",
    "    try:\n",
    "        age = int(input(\"Enter your age: \"))\n",
    "        if age < 0:\n",
    "            print(\"Invalid age entered. Age must be a non-negative integer.\")\n",
    "        else:\n",
    "            if check_senior_citizen_discount(age):\n",
    "                print(\"Congratulations! You are eligible for a senior citizen discount.\")\n",
    "            else:\n",
    "                print(\"Sorry, you are not eligible for a senior citizen discount.\")\n",
    "    except ValueError:\n",
    "        print(\"Invalid input. Please enter a valid age as an integer.\")\n"
   ]
  },
  {
   "cell_type": "code",
   "execution_count": null,
   "id": "4e86e7c3-9971-42bc-8aac-cfd1fe2643c8",
   "metadata": {},
   "outputs": [
    {
     "name": "stdout",
     "output_type": "stream",
     "text": [
      "Enter a character:  k\n"
     ]
    },
    {
     "name": "stdout",
     "output_type": "stream",
     "text": [
      "The character 'k' is Lowercase.\n"
     ]
    }
   ],
   "source": [
    "# Write a Python program to categorize a given character as uppercase, lowercase, or neither using if-else.\n",
    "def categorize_character(char):\n",
    "    if char.islower():\n",
    "        return \"Lowercase\"\n",
    "    elif char.isupper():\n",
    "        return \"Uppercase\"\n",
    "    else:\n",
    "        return \"Neither uppercase nor lowercase\"\n",
    "\n",
    "if __name__ == \"__main__\":\n",
    "    try:\n",
    "        character = input(\"Enter a character: \")\n",
    "        if len(character) != 1:\n",
    "            print(\"Please enter exactly one character.\")\n",
    "        else:\n",
    "            category = categorize_character(character)\n",
    "            print(f\"The character '{character}' is {category}.\")\n",
    "    except ValueError:\n",
    "        print(\"Invalid input. Please enter a valid character.\")\n"
   ]
  },
  {
   "cell_type": "code",
   "execution_count": null,
   "id": "16f25633-bdf8-42a3-8be1-528103477e3a",
   "metadata": {},
   "outputs": [
    {
     "name": "stdout",
     "output_type": "stream",
     "text": [
      "Enter the coefficient a:  3\n"
     ]
    },
    {
     "name": "stdout",
     "output_type": "stream",
     "text": [
      "3.0\n"
     ]
    }
   ],
   "source": [
    "\n",
    "# Write a Python program to determine the roots of a quadratic equation using if-else.\n",
    "import math\n",
    "\n",
    "def find_roots(a, b, c):\n",
    "    # Calculate the discriminant\n",
    "    discriminant = b**2 - 4*a*c\n",
    "\n",
    "    # Check if the discriminant is positive, negative, or zero\n",
    "    if discriminant > 0:\n",
    "        # Two distinct real roots\n",
    "        root1 = (-b + math.sqrt(discriminant)) / (2*a)\n",
    "        root2 = (-b - math.sqrt(discriminant)) / (2*a)\n",
    "        return root1, root2\n",
    "    elif discriminant == 0:\n",
    "        # One real root (repeated)\n",
    "        root = -b / (2*a)\n",
    "        return root, root\n",
    "    else:\n",
    "        # Complex roots\n",
    "        real_part = -b / (2*a)\n",
    "        imaginary_part = math.sqrt(abs(discriminant)) / (2*a)\n",
    "        root1 = complex(real_part, imaginary_part)\n",
    "        root2 = complex(real_part, -imaginary_part)\n",
    "        return root1, root2\n",
    "\n",
    "\n",
    "a = float(input(\"Enter the coefficient a: \"))\n",
    "print((a))\n",
    "        \n"
   ]
  },
  {
   "cell_type": "code",
   "execution_count": null,
   "id": "991a4862-9501-4d81-bc7d-4b7abe63f855",
   "metadata": {},
   "outputs": [
    {
     "name": "stdout",
     "output_type": "stream",
     "text": [
      "Enter a year:  400\n"
     ]
    },
    {
     "name": "stdout",
     "output_type": "stream",
     "text": [
      "400 is a century year.\n"
     ]
    }
   ],
   "source": [
    "x\n",
    "# Create a Python program that checks if a given year is a century year or not using if-else.\n",
    "def is_century_year(year):\n",
    "    if year % 100 == 0:\n",
    "        return True\n",
    "    else:\n",
    "        return False\n",
    "\n",
    "if __name__ == \"__main__\":\n",
    "    try:\n",
    "        year = int(input(\"Enter a year: \"))\n",
    "\n",
    "        if year <= 0:\n",
    "            print(\"Invalid year entered. Year must be a positive integer.\")\n",
    "        elif is_century_year(year):\n",
    "            print(f\"{year} is a century year.\")\n",
    "        else:\n",
    "            print(f\"{year} is not a century year.\")\n",
    "    except ValueError:\n",
    "        print(\"Invalid input. Please enter a valid year as an integer.\")\n"
   ]
  },
  {
   "cell_type": "code",
   "execution_count": null,
   "id": "f1e204c9-82ae-4c37-b11a-0de77da1154f",
   "metadata": {},
   "outputs": [
    {
     "name": "stdout",
     "output_type": "stream",
     "text": [
      "Enter a number:  68\n"
     ]
    },
    {
     "name": "stdout",
     "output_type": "stream",
     "text": [
      "68 is not a perfect square.\n"
     ]
    }
   ],
   "source": [
    "\n",
    "# Write a Python program to determine if a given number is a perfect square using if-else.\n",
    "def is_perfect_square(number):\n",
    "    if number < 0:\n",
    "        return False\n",
    "    elif number == 0:\n",
    "        return True\n",
    "    else:\n",
    "        # Using the property that perfect squares have odd count of factors\n",
    "        # So, we can iterate till the square root of the number\n",
    "        # If we find a divisor, we return True, else we return False\n",
    "        sqrt_num = int(number ** 0.5)\n",
    "        return sqrt_num * sqrt_num == number\n",
    "\n",
    "if __name__ == \"__main__\":\n",
    "    try:\n",
    "        num = int(input(\"Enter a number: \"))\n",
    "        if is_perfect_square(num):\n",
    "            print(f\"{num} is a perfect square.\")\n",
    "        else:\n",
    "            print(f\"{num} is not a perfect square.\")\n",
    "    except ValueError:\n",
    "        print(\"Invalid input. Please enter a valid number.\")\n"
   ]
  },
  {
   "cell_type": "code",
   "execution_count": null,
   "id": "66e8ecbd-5801-4b8a-8fbd-3b539f0bafe1",
   "metadata": {},
   "outputs": [
    {
     "name": "stdout",
     "output_type": "stream",
     "text": [
      "1\n",
      "3\n",
      "5\n",
      "7\n",
      "9\n",
      "1\n",
      "2\n",
      "3\n",
      "4\n",
      "5\n"
     ]
    }
   ],
   "source": [
    "\n",
    "# Explain the purpose of the \"continue\" and \"break\" statements within if-else loops.\n",
    "for i in range(1, 11):\n",
    "    if i % 2 == 0:\n",
    "        continue  # Skip even numbers\n",
    "    print(i)\n",
    "numbers = [1, 2, 3, 4, 5, 6, 7, 8, 9, 10]\n",
    "for num in numbers:\n",
    "    if num == 6:\n",
    "        break  # Stop the loop when num is 6\n",
    "    print(num)\n"
   ]
  },
  {
   "cell_type": "code",
   "execution_count": 3,
   "id": "58787c37-71f1-459f-b739-49a195b28534",
   "metadata": {},
   "outputs": [
    {
     "name": "stdout",
     "output_type": "stream",
     "text": [
      "[1, 2, 3, 4]\n"
     ]
    }
   ],
   "source": [
    "\n",
    "# Explain the purpose of the `map()` function in Python and provide an example of how it can be used to apply a function to each element of an iterable.\n",
    "\n",
    "# it basically makes the iteration task easy  so the we can skip the loop part it takes 2 arguments and map them by performing iteration operation\n",
    "# ex-\n",
    "l=[1,2,3,4]\n",
    "result=map(lambda x:x+x-x,l)\n",
    "print(list(result))"
   ]
  },
  {
   "cell_type": "code",
   "execution_count": 10,
   "id": "c264d2e4",
   "metadata": {},
   "outputs": [
    {
     "name": "stdout",
     "output_type": "stream",
     "text": [
      "[1, 4, 9, 16]\n"
     ]
    }
   ],
   "source": [
    "l=[1,2,3,4]\n",
    "res=map(lambda x: x**2,l)\n",
    "print(list(res))"
   ]
  },
  {
   "cell_type": "code",
   "execution_count": 11,
   "id": "b269dbb3",
   "metadata": {},
   "outputs": [],
   "source": [
    "# map() function:\n",
    "# map() applies a function to every item in the iterable and returns an iterator.\n",
    "# It takes two arguments: the function to apply and the iterable.\n",
    "# map() is generally more memory-efficient for large datasets because it generates items one by one as needed.\n",
    "# It's especially useful when you want to apply the same function to every \n",
    "\n",
    "\n",
    "# List comprehension:\n",
    "# List comprehensions provide a more concise and readable way to create lists based on existing lists.\n",
    "# They use a more straightforward syntax and are often considered more Pythonic.\n",
    "# List comprehensions can be more expressive when the creation of the new list involves conditional logic or more complex transformations.\n"
   ]
  },
  {
   "cell_type": "code",
   "execution_count": 13,
   "id": "e0e0c423",
   "metadata": {},
   "outputs": [
    {
     "name": "stdout",
     "output_type": "stream",
     "text": [
      "['A', 'B', 'C', 'D']\n"
     ]
    }
   ],
   "source": [
    "l=['a','b','c','d']\n",
    "res=map(lambda x: x.upper(),l)\n",
    "print(list(res))"
   ]
  },
  {
   "cell_type": "code",
   "execution_count": 14,
   "id": "e790c1b7",
   "metadata": {},
   "outputs": [
    {
     "name": "stdout",
     "output_type": "stream",
     "text": [
      "[5, 3, 4]\n"
     ]
    }
   ],
   "source": [
    "l=['karan','dev','RANE']\n",
    "res=map(lambda x:len(x),l)\n",
    "\n",
    "print(list(res))"
   ]
  },
  {
   "cell_type": "code",
   "execution_count": 2,
   "id": "a56bcc37",
   "metadata": {},
   "outputs": [
    {
     "name": "stdout",
     "output_type": "stream",
     "text": [
      "[6, 8, 10, 12]\n"
     ]
    }
   ],
   "source": [
    "def sumofarray(arr1,arr2):\n",
    "    return arr1+arr2\n",
    "l1=[1,2,3,4]\n",
    "l2=[5,6,7,8]\n",
    "res=map(sumofarray,l1,l2)\n",
    "print(list(res))"
   ]
  },
  {
   "cell_type": "code",
   "execution_count": 3,
   "id": "eba10ff5",
   "metadata": {},
   "outputs": [
    {
     "name": "stdout",
     "output_type": "stream",
     "text": [
      "Celsius Temperatures: [0, 10, 20, 30, 40]\n",
      "Fahrenheit Temperatures: [32.0, 50.0, 68.0, 86.0, 104.0]\n"
     ]
    }
   ],
   "source": [
    "# Define a function to convert Celsius to Fahrenheit\n",
    "def celsius_to_fahrenheit(celsius):\n",
    "    return (celsius * 9/5) + 32\n",
    "\n",
    "# List of temperatures in Celsius\n",
    "celsius_temperatures = [0, 10, 20, 30, 40]\n",
    "\n",
    "# Use map() to convert Celsius temperatures to Fahrenheit\n",
    "fahrenheit_temperatures = map(celsius_to_fahrenheit, celsius_temperatures)\n",
    "\n",
    "# Print the results\n",
    "print(\"Celsius Temperatures:\", celsius_temperatures)\n",
    "print(\"Fahrenheit Temperatures:\", list(fahrenheit_temperatures))\n"
   ]
  },
  {
   "cell_type": "code",
   "execution_count": 4,
   "id": "4e395838",
   "metadata": {},
   "outputs": [
    {
     "name": "stdout",
     "output_type": "stream",
     "text": [
      "Original Float Numbers: [3.14, 2.718, 1.618, 4.669, 0.577]\n",
      "Rounded Numbers: [3, 3, 2, 5, 1]\n"
     ]
    }
   ],
   "source": [
    "# List of floating-point numbers\n",
    "float_numbers = [3.14, 2.718, 1.618, 4.669, 0.577]\n",
    "\n",
    "# Use map() to round each element to the nearest integer\n",
    "rounded_numbers = map(round, float_numbers)\n",
    "\n",
    "# Convert the result to a list\n",
    "rounded_numbers_list = list(rounded_numbers)\n",
    "\n",
    "# Print the rounded numbers\n",
    "print(\"Original Float Numbers:\", float_numbers)\n",
    "print(\"Rounded Numbers:\", rounded_numbers_list)\n"
   ]
  },
  {
   "cell_type": "code",
   "execution_count": 3,
   "id": "66d2d8bd",
   "metadata": {},
   "outputs": [
    {
     "name": "stdout",
     "output_type": "stream",
     "text": [
      "[1, 2, 4, 8]\n"
     ]
    }
   ],
   "source": [
    "def floatround(s):\n",
    "    return round(s)\n",
    "\n",
    "l=[1.3,1.5,3.5,7.8]\n",
    "result=list(map(floatround,l))\n",
    "print(result)\n",
    "\n"
   ]
  },
  {
   "cell_type": "code",
   "execution_count": 1,
   "id": "06b2988a",
   "metadata": {},
   "outputs": [
    {
     "name": "stdout",
     "output_type": "stream",
     "text": [
      "8\n",
      "13\n",
      "5\n"
     ]
    }
   ],
   "source": [
    "# #Basics of functions\n",
    "# it is a piece of code which makes our task. easy\n",
    "\n",
    "\n",
    "def add(a,b):\n",
    "    print(a+b)\n",
    "add(3,5)\n",
    "add(6,7)\n",
    "add(1,4)\n",
    "\n"
   ]
  },
  {
   "cell_type": "code",
   "execution_count": 2,
   "id": "244b71be",
   "metadata": {},
   "outputs": [],
   "source": [
    "# how do you define a function\n",
    "# you can define a function by using def word\n",
    "# and function takes functions parameters and perform operations\n",
    " "
   ]
  },
  {
   "cell_type": "code",
   "execution_count": 3,
   "id": "3a56ebb5",
   "metadata": {},
   "outputs": [
    {
     "name": "stdout",
     "output_type": "stream",
     "text": [
      "3\n"
     ]
    }
   ],
   "source": [
    "def add(a,b):  # ---->  this is a function defination\n",
    "    return a+b\n",
    "print(add(1,2)) #------> this is a function call\n"
   ]
  },
  {
   "cell_type": "code",
   "execution_count": 4,
   "id": "ab7bf22d",
   "metadata": {},
   "outputs": [
    {
     "name": "stdout",
     "output_type": "stream",
     "text": [
      "3\n"
     ]
    }
   ],
   "source": [
    "#funtion to add 2 numbers\n",
    "def add(a,b):\n",
    "    return a+b\n",
    "\n",
    "print((add(1,2)))"
   ]
  },
  {
   "cell_type": "code",
   "execution_count": 7,
   "id": "8f4534f4",
   "metadata": {},
   "outputs": [
    {
     "name": "stdout",
     "output_type": "stream",
     "text": [
      "8\n"
     ]
    }
   ],
   "source": [
    "#function that return the product\n",
    "import operator\n",
    "def mult(a,b):\n",
    "    return operator.mul(a,b)\n",
    "print(mult(2,4))"
   ]
  },
  {
   "cell_type": "code",
   "execution_count": 8,
   "id": "6c36ec58",
   "metadata": {},
   "outputs": [],
   "source": [
    "# signature of function\n",
    "# Function name: The name by which the function is identified.\n",
    "# Parameters: The input values or arguments that the function accepts. Each parameter is specified with its data type and, optionally, its name.\n",
    "# Return type: The data type of the value returned by the function.\n",
    "# Additional information: This may include information about exceptions the function may raise, any side effects it has, or any constraints on its behavior."
   ]
  },
  {
   "cell_type": "code",
   "execution_count": 13,
   "id": "82e85f1b",
   "metadata": {},
   "outputs": [
    {
     "name": "stdout",
     "output_type": "stream",
     "text": [
      "hello: karan\n",
      "None\n"
     ]
    }
   ],
   "source": [
    "# formal parameter\n",
    "def greet(name):\n",
    "    print(\"hello:\",name) #name is a formal para\n",
    "(greet('karan'))\n",
    "# karan----->it is a actual parameter"
   ]
  },
  {
   "cell_type": "code",
   "execution_count": 14,
   "id": "01bd6fb0",
   "metadata": {},
   "outputs": [
    {
     "name": "stdout",
     "output_type": "stream",
     "text": [
      "Hello, World\n",
      "Hello, Alice\n"
     ]
    }
   ],
   "source": [
    "def greet(name=\"World\"):\n",
    "    print(\"Hello,\", name)\n",
    "\n",
    "# Call the function without providing any argument\n",
    "greet()  # Output: Hello, World\n",
    "\n",
    "# Call the function with an argument\n",
    "greet(\"Alice\")  # Output: Hello, Alice\n"
   ]
  },
  {
   "cell_type": "code",
   "execution_count": 4,
   "id": "852157e0",
   "metadata": {},
   "outputs": [
    {
     "name": "stdout",
     "output_type": "stream",
     "text": [
      "31\n"
     ]
    }
   ],
   "source": [
    "# function to add two varaible\n",
    "def l(a,b):\n",
    "    return (a+b)\n",
    "a=19\n",
    "b=12\n",
    "print(l(a,b))"
   ]
  },
  {
   "cell_type": "code",
   "execution_count": 10,
   "id": "d57b7258",
   "metadata": {},
   "outputs": [
    {
     "name": "stdout",
     "output_type": "stream",
     "text": [
      "10\n",
      "9\n"
     ]
    }
   ],
   "source": [
    "# *args\n",
    "def functionarg(*args):\n",
    "    s=0\n",
    "    for i in args:\n",
    "        s+=i\n",
    "    return s\n",
    "print(functionarg(1,2,3,4))\n",
    "\n",
    "# **args\n",
    "def functionarg1(**kwargs):\n",
    "    s = 0\n",
    "    for key, value in kwargs.items():\n",
    "        s += value\n",
    "    return s\n",
    "\n",
    "d = {'l': 1, 'a': 2, 't': 6}\n",
    "print(functionarg1(**d))  # Pass the dictionary using ** to unpack it\n"
   ]
  },
  {
   "cell_type": "code",
   "execution_count": 11,
   "id": "aeb582c3",
   "metadata": {},
   "outputs": [
    {
     "name": "stdout",
     "output_type": "stream",
     "text": [
      "8\n"
     ]
    }
   ],
   "source": [
    "# return value and scoping\n",
    "def add(a, b):\n",
    "    return a + b\n",
    "\n",
    "result = add(3, 5)\n",
    "print(result)  # Output: 8\n"
   ]
  },
  {
   "cell_type": "code",
   "execution_count": 12,
   "id": "d1e25a08",
   "metadata": {},
   "outputs": [
    {
     "name": "stdout",
     "output_type": "stream",
     "text": [
      "10\n",
      "20\n",
      "10\n"
     ]
    }
   ],
   "source": [
    "# Global variable\n",
    "x = 10\n",
    "\n",
    "def my_function():\n",
    "    # Local variable\n",
    "    y = 20\n",
    "    print(x)  # Accessing global variable x from within the function\n",
    "    print(y)  # Accessing local variable y within the function\n",
    "\n",
    "my_function()\n",
    "print(x)  # Accessing global variable x outside the function\n"
   ]
  },
  {
   "cell_type": "code",
   "execution_count": 13,
   "id": "f7673112",
   "metadata": {},
   "outputs": [
    {
     "name": "stdout",
     "output_type": "stream",
     "text": [
      "15\n",
      "15\n"
     ]
    }
   ],
   "source": [
    "# Global variable\n",
    "x = 10\n",
    "\n",
    "def my_function():\n",
    "    global x  # Declare x as global within the function\n",
    "    x += 5  # Modify the global variable x\n",
    "    print(x)  # Access the modified global variable x within the function\n",
    "\n",
    "my_function()\n",
    "print(x)  # Access the modified global variable x outside the function\n"
   ]
  },
  {
   "cell_type": "code",
   "execution_count": 14,
   "id": "095553b9",
   "metadata": {},
   "outputs": [
    {
     "name": "stdout",
     "output_type": "stream",
     "text": [
      "120\n"
     ]
    }
   ],
   "source": [
    "def factorial(n):\n",
    "    if n == 0:\n",
    "        return 1\n",
    "    else:\n",
    "        return n * factorial(n - 1)\n",
    "\n",
    "result = factorial(5)\n",
    "print(result)  # Output: 120\n"
   ]
  },
  {
   "cell_type": "code",
   "execution_count": 15,
   "id": "8063a6d5",
   "metadata": {},
   "outputs": [
    {
     "name": "stdout",
     "output_type": "stream",
     "text": [
      "15\n"
     ]
    }
   ],
   "source": [
    "x = 10\n",
    "\n",
    "def my_function():\n",
    "    global x\n",
    "    x += 5\n",
    "\n",
    "my_function()\n",
    "print(x)  # Output: 15\n"
   ]
  },
  {
   "cell_type": "code",
   "execution_count": 16,
   "id": "8e8d3ab5",
   "metadata": {},
   "outputs": [],
   "source": [
    "# recursion is a method in python in which function calls itself\n"
   ]
  },
  {
   "cell_type": "code",
   "execution_count": 24,
   "id": "95ad5f54",
   "metadata": {},
   "outputs": [
    {
     "name": "stdout",
     "output_type": "stream",
     "text": [
      "120\n"
     ]
    }
   ],
   "source": [
    "def fact(x):\n",
    "    if x<=1:\n",
    "        return 1\n",
    "    else:\n",
    "        return x * fact(x-1)\n",
    "print(fact(5))"
   ]
  },
  {
   "cell_type": "code",
   "execution_count": 26,
   "id": "b459285d",
   "metadata": {},
   "outputs": [
    {
     "name": "stdout",
     "output_type": "stream",
     "text": [
      "2\n"
     ]
    }
   ],
   "source": [
    "def fib(n):\n",
    "    if n==0 or n==1:\n",
    "        return n\n",
    "    else:\n",
    "        return fib(n-1)+fib(n-2)\n",
    "print(fib(3))"
   ]
  },
  {
   "cell_type": "code",
   "execution_count": 34,
   "id": "48394957",
   "metadata": {},
   "outputs": [
    {
     "name": "stdout",
     "output_type": "stream",
     "text": [
      "10\n"
     ]
    }
   ],
   "source": [
    "def s(a,i,j):\n",
    "    if i>j:\n",
    "        return 0\n",
    "    return a[i]+s(a,i+1,j)\n",
    "l=[1,2,3,4]\n",
    "print(s(l,0,(len(l)-1)))"
   ]
  },
  {
   "cell_type": "code",
   "execution_count": 35,
   "id": "e44b73c7",
   "metadata": {},
   "outputs": [],
   "source": [
    "# To prevent a recursive function from running indefinitely and causing a stack overflow error, you can implement one or more of the following strategies:\n",
    "\n",
    "# 1. **Base Case**: Ensure that your recursive function has one or more base cases that trigger the termination of recursion. Base cases are conditions where the function returns a value without making any further recursive calls. These conditions should be defined such that they are eventually reached during the recursive process.\n",
    "\n",
    "# 2. **Properly Defined Recursive Calls**: Ensure that the recursive calls within your function are properly defined and move the function closer to the base case. This typically involves reducing the size of the problem or moving towards a solution by modifying the arguments passed to the recursive call. \n",
    "\n",
    "# 3. **Limiting Depth**: Implement a mechanism to limit the depth of recursion. You can introduce a counter or a depth parameter that decrements with each recursive call and terminates the recursion when it reaches a certain threshold. \n",
    "\n",
    "# 4. **Error Handling**: Implement error handling mechanisms to handle unexpected or invalid inputs gracefully. If the function encounters such inputs, it should return an appropriate value or raise an exception to prevent further recursion.\n",
    "\n",
    "# 5. **Test with Boundary Values**: Ensure that your recursive function is thoroughly tested with different inputs, including boundary values and edge cases, to identify any potential issues with infinite recursion.\n",
    "\n",
    "# By incorporating these strategies into your recursive functions, you can minimize the risk of stack overflow errors and ensure that the recursion terminates properly."
   ]
  },
  {
   "cell_type": "code",
   "execution_count": 38,
   "id": "3cf58f1d",
   "metadata": {},
   "outputs": [
    {
     "name": "stdout",
     "output_type": "stream",
     "text": [
      "10\n"
     ]
    }
   ],
   "source": [
    "# gcd\n",
    "def gcd(a,b):\n",
    "    if b==0:\n",
    "        return a\n",
    "    else:\n",
    "        return gcd(b,a%b)\n",
    "a=10\n",
    "n=20\n",
    "print(gcd(a,n))"
   ]
  },
  {
   "cell_type": "code",
   "execution_count": 43,
   "id": "eb02e9af",
   "metadata": {},
   "outputs": [
    {
     "name": "stdout",
     "output_type": "stream",
     "text": [
      "yeh\n"
     ]
    }
   ],
   "source": [
    "def rev(s,i,j):\n",
    "    if j<i:\n",
    "        return \"\"\n",
    "    else:\n",
    "        return s[j] + str(rev(s,i,j-1))\n",
    "s='hey'\n",
    "print(rev(s,0,(len(s)-1)))"
   ]
  },
  {
   "cell_type": "code",
   "execution_count": 51,
   "metadata": {},
   "outputs": [
    {
     "name": "stdout",
     "output_type": "stream",
     "text": [
      "32\n"
     ]
    }
   ],
   "source": [
    "def po(a,b):\n",
    "    if b==0:\n",
    "        return 1\n",
    "\n",
    "    else:\n",
    "        return a* po(a,b-1)\n",
    "\n",
    "a=2\n",
    "n=5\n",
    "print(po(a,n))"
   ]
  },
  {
   "cell_type": "code",
   "execution_count": 52,
   "id": "ef4d1cff",
   "metadata": {},
   "outputs": [
    {
     "name": "stdout",
     "output_type": "stream",
     "text": [
      "Permutations of abc are: ['abc', 'acb', 'bac', 'bca', 'cab', 'cba']\n"
     ]
    }
   ],
   "source": [
    "def generate_permutations(s):\n",
    "    if len(s) <= 1:\n",
    "        return [s]\n",
    "\n",
    "    permutations = []\n",
    "    for i in range(len(s)):\n",
    "        # Fix the current character\n",
    "        fixed_char = s[i]\n",
    "\n",
    "        # Generate permutations of the remaining characters\n",
    "        remaining_chars = s[:i] + s[i+1:]\n",
    "        remaining_permutations = generate_permutations(remaining_chars)\n",
    "\n",
    "        # Append the fixed character to each permutation of the remaining characters\n",
    "        for perm in remaining_permutations:\n",
    "            permutations.append(fixed_char + perm)\n",
    "\n",
    "    return permutations\n",
    "\n",
    "# Example usage:\n",
    "s = \"abc\"\n",
    "print(\"Permutations of\", s, \"are:\", generate_permutations(s))\n"
   ]
  },
  {
   "cell_type": "code",
   "execution_count": 53,
   "id": "abb3b9ee",
   "metadata": {},
   "outputs": [
    {
     "name": "stdout",
     "output_type": "stream",
     "text": [
      "True\n"
     ]
    }
   ],
   "source": [
    "def check(s,i,j):\n",
    "    if i==j:\n",
    "        return True\n",
    "    if s[i] != s[j]:\n",
    "        return False\n",
    "    return check(s,i+1,j-1)\n",
    "s=\"madam\"\n",
    "print(check(s,0,(len(s)-1)))"
   ]
  },
  {
   "cell_type": "code",
   "execution_count": 54,
   "id": "501db759",
   "metadata": {},
   "outputs": [
    {
     "name": "stdout",
     "output_type": "stream",
     "text": [
      "Combinations of ['a', 'b', 'c'] with length 2 are: [['a', 'b'], ['a', 'c'], ['b', 'c']]\n"
     ]
    }
   ],
   "source": [
    "def generate_combinations(elements, k):\n",
    "    combinations = []\n",
    "    generate_combinations_recursive(elements, k, [], combinations)\n",
    "    return combinations\n",
    "\n",
    "def generate_combinations_recursive(elements, k, current_combination, combinations):\n",
    "    if k == 0:\n",
    "        combinations.append(current_combination)\n",
    "        return\n",
    "    \n",
    "    if len(elements) == 0:\n",
    "        return\n",
    "    \n",
    "    # Include the first element and recursively generate combinations\n",
    "    with_element = current_combination + [elements[0]]\n",
    "    generate_combinations_recursive(elements[1:], k - 1, with_element, combinations)\n",
    "    \n",
    "    # Exclude the first element and recursively generate combinations\n",
    "    without_element = current_combination\n",
    "    generate_combinations_recursive(elements[1:], k, without_element, combinations)\n",
    "\n",
    "# Example usage:\n",
    "elements = ['a', 'b', 'c']\n",
    "k = 2\n",
    "print(\"Combinations of\", elements, \"with length\", k, \"are:\", generate_combinations(elements, k))\n"
   ]
  },
  {
   "cell_type": "code",
   "execution_count": 55,
   "id": "adb200ea",
   "metadata": {},
   "outputs": [],
   "source": [
    "# lambda function are one liner function used to perform iteration task"
   ]
  },
  {
   "cell_type": "code",
   "execution_count": 58,
   "id": "3b03ac5b",
   "metadata": {},
   "outputs": [
    {
     "name": "stdout",
     "output_type": "stream",
     "text": [
      "Sorted list based on the second element:\n",
      "[(2, 1), (5, 2), (4, 3), (1, 4), (3, 6)]\n"
     ]
    }
   ],
   "source": [
    "# List of tuples\n",
    "data = [(1, 4), (2, 1), (3, 6), (4, 3), (5, 2)]\n",
    "\n",
    "# Sort the list of tuples based on the second element using a lambda function\n",
    "sorted_data = list(sorted(data, key=lambda x: x[1]))\n",
    "\n",
    "# Print the sorted list\n",
    "print(\"Sorted list based on the second element:\")\n",
    "print(sorted_data)\n"
   ]
  },
  {
   "cell_type": "code",
   "execution_count": 62,
   "id": "20257244",
   "metadata": {},
   "outputs": [
    {
     "name": "stdout",
     "output_type": "stream",
     "text": [
      "Squared numbers: [1, 4, 9, 16, 25]\n",
      "Cubed numbers: [1, 8, 27, 64, 125]\n"
     ]
    }
   ],
   "source": [
    "def apply_operation(operation, numbers):\n",
    "    return [operation(num) for num in numbers]\n",
    "\n",
    "# List of numbers\n",
    "numbers = [1, 2, 3, 4, 5]\n",
    "\n",
    "# Apply square operation using lambda function\n",
    "result_square = apply_operation(lambda x: x * x, numbers)\n",
    "print(\"Squared numbers:\", result_square)\n",
    "\n",
    "# Apply cube operation using lambda function\n",
    "result_cube = apply_operation(lambda x: x * x * x, numbers)\n",
    "print(\"Cubed numbers:\", result_cube)\n"
   ]
  },
  {
   "cell_type": "code",
   "execution_count": 65,
   "id": "70fdebf7",
   "metadata": {},
   "outputs": [
    {
     "name": "stdout",
     "output_type": "stream",
     "text": [
      "[4, 9, 16, 25]\n"
     ]
    }
   ],
   "source": [
    "def operation(numbers):\n",
    "    function=lambda x:x**2\n",
    "\n",
    "    return list(map(lambda x:function(x),numbers))\n",
    "l=[2,3,4,5]\n",
    "print(operation(l))"
   ]
  },
  {
   "cell_type": "code",
   "execution_count": 3,
   "id": "93199b92",
   "metadata": {},
   "outputs": [
    {
     "name": "stdout",
     "output_type": "stream",
     "text": [
      "5\n"
     ]
    }
   ],
   "source": [
    "from functools import reduce\n",
    "\n",
    "# Define a list of numbers\n",
    "numbers = [1, 2, 3, 4, 5]\n",
    "\n",
    "# Use reduce to compute the sum of the numbers\n",
    "sum_of_numbers = reduce(lambda x, y: x if x > y else y , numbers)\n",
    "\n",
    "print(sum_of_numbers)\n"
   ]
  },
  {
   "cell_type": "code",
   "execution_count": 4,
   "id": "61d524c9",
   "metadata": {},
   "outputs": [
    {
     "name": "stdout",
     "output_type": "stream",
     "text": [
      "240\n"
     ]
    }
   ],
   "source": [
    "numbers=[2,4,5,6]\n",
    "prod=reduce(lambda x,y:x*y,numbers)\n",
    "print(prod)"
   ]
  },
  {
   "cell_type": "code",
   "execution_count": 5,
   "id": "2e2a9a83",
   "metadata": {},
   "outputs": [
    {
     "name": "stdout",
     "output_type": "stream",
     "text": [
      "5\n"
     ]
    }
   ],
   "source": [
    "from functools import reduce\n",
    "\n",
    "# Define a list of numbers\n",
    "numbers = [1, 2, 3, 4, 5]\n",
    "#program to find the greater one\n",
    "sum_of_numbers = reduce(lambda x, y: x if x > y else y , numbers)\n",
    "\n",
    "print(sum_of_numbers)\n"
   ]
  },
  {
   "cell_type": "code",
   "execution_count": 6,
   "id": "1f58f6a3",
   "metadata": {},
   "outputs": [
    {
     "name": "stdout",
     "output_type": "stream",
     "text": [
      "hello\n"
     ]
    }
   ],
   "source": [
    "h=['h','e','l','l','o']\n",
    "con=reduce(lambda x,y:x+y,h )\n",
    "print(con)"
   ]
  },
  {
   "cell_type": "code",
   "execution_count": null,
   "id": "1daf72d9",
   "metadata": {},
   "outputs": [
    {
     "name": "stdout",
     "output_type": "stream",
     "text": [
      "120\n"
     ]
    }
   ],
   "source": [
    "def fact(num):\n",
    "    if num<=0:\n",
    "        return' check again'\n",
    "    else:\n",
    "        return reduce(lambda x,y:x*y ,range(1,num+1),1)\n",
    "\n",
    "\n",
    "num=5\n",
    "print(fact(num))"
   ]
  },
  {
   "cell_type": "code",
   "execution_count": 1,
   "id": "c88afbc7",
   "metadata": {},
   "outputs": [
    {
     "name": "stdout",
     "output_type": "stream",
     "text": [
      "2\n"
     ]
    }
   ],
   "source": [
    "from functools import reduce\n",
    "def gcd(a,b):\n",
    "    while b:\n",
    "        a,b=a,a%b\n",
    "        return a \n",
    "def gcdfind(number):\n",
    "    return reduce(gcd,number)\n",
    "numbers=[2,3,4,5]\n",
    "print(gcdfind(numbers))\n"
   ]
  },
  {
   "cell_type": "code",
   "execution_count": 2,
   "id": "31f91376",
   "metadata": {},
   "outputs": [
    {
     "name": "stdout",
     "output_type": "stream",
     "text": [
      "14\n"
     ]
    }
   ],
   "source": [
    "# using reduce to find the sum of numbers\n",
    "l=[2,3,4,5]\n",
    "sum=reduce(lambda x,y:x+y,l)\n",
    "print(sum)"
   ]
  },
  {
   "cell_type": "code",
   "execution_count": 3,
   "id": "e97ec7d0",
   "metadata": {},
   "outputs": [],
   "source": [
    "# # purpose of filter function\n",
    "# filter function is used to for the purpose of filtering the element on the basis of given condition it takes the arguments"
   ]
  },
  {
   "cell_type": "code",
   "execution_count": 4,
   "id": "8a0a26a3",
   "metadata": {},
   "outputs": [
    {
     "name": "stdout",
     "output_type": "stream",
     "text": [
      "[2, 4, 6, 8]\n"
     ]
    }
   ],
   "source": [
    "# using filter function to filter the even elements\n",
    "l=[1,2,3,4,5,6,7,8]\n",
    "f=list(filter(lambda x:x%2==0,l))\n",
    "print(f)"
   ]
  },
  {
   "cell_type": "code",
   "execution_count": 9,
   "id": "577f9912",
   "metadata": {},
   "outputs": [
    {
     "name": "stdout",
     "output_type": "stream",
     "text": [
      "['arun']\n",
      "['karan', 'devahs', 'arun', 'rane']\n"
     ]
    }
   ],
   "source": [
    "l=['karan','devahs','arun','rane']\n",
    "f=list(filter(lambda x:x.startswith('a'),l))\n",
    "print(f)\n",
    "f2=list(filter(lambda x:  'a' in x,l))\n",
    "print(f2)"
   ]
  },
  {
   "cell_type": "code",
   "execution_count": 13,
   "id": "eaa45df3",
   "metadata": {},
   "outputs": [
    {
     "name": "stdout",
     "output_type": "stream",
     "text": [
      "[2, 3, 23, 1223]\n"
     ]
    }
   ],
   "source": [
    "def prime(n):\n",
    "    if n <= 1:\n",
    "        return False\n",
    "    if n <= 3:\n",
    "        return True\n",
    "    if n % 2 == 0 or n % 3 == 0:\n",
    "        return False\n",
    "    i = 5\n",
    "    while i * i <= n:\n",
    "        if n % i == 0 or n % (i + 2) == 0:\n",
    "            return False\n",
    "        i += 6\n",
    "    return True\n",
    "\n",
    "l = [1, 2, 3, 23, 24, 25, 26, 78, 98, 121, 2235,1223]\n",
    "f = list(filter(prime, l))\n",
    "print(f)\n"
   ]
  },
  {
   "cell_type": "code",
   "execution_count": 14,
   "id": "b2500155",
   "metadata": {},
   "outputs": [
    {
     "name": "stdout",
     "output_type": "stream",
     "text": [
      "[1, 4, 45, 2, 12, 34, 4, 56, 67]\n"
     ]
    }
   ],
   "source": [
    "l=[1,4,None,45,2,12,34,4,None,56,None,67]\n",
    "f=list(filter(lambda x:x is not None,l))\n",
    "print(f)"
   ]
  },
  {
   "cell_type": "code",
   "execution_count": 15,
   "id": "1b6eff5d",
   "metadata": {},
   "outputs": [
    {
     "name": "stdout",
     "output_type": "stream",
     "text": [
      "['banana', 'orange', 'watermelon']\n"
     ]
    }
   ],
   "source": [
    "words_list = [\"apple\", \"banana\", \"orange\", \"kiwi\", \"grape\", \"watermelon\"]\n",
    "limit=5\n",
    "f=list(filter(lambda x : len(x)>limit,words_list))\n",
    "print(f)"
   ]
  },
  {
   "cell_type": "code",
   "execution_count": 16,
   "id": "5915fe8f",
   "metadata": {},
   "outputs": [
    {
     "name": "stdout",
     "output_type": "stream",
     "text": [
      "Values greater than 50 : [60, 70, 80, 90]\n"
     ]
    }
   ],
   "source": [
    "# List of values\n",
    "values_list = [10, 20, 30, 40, 50, 60, 70, 80, 90]\n",
    "\n",
    "# Threshold value\n",
    "threshold_value = 50\n",
    "\n",
    "# Filter values greater than the threshold using lambda function\n",
    "filtered_values = list(filter(lambda x: x > threshold_value, values_list))\n",
    "\n",
    "# Print the filtered values\n",
    "print(\"Values greater than\", threshold_value, \":\", filtered_values)\n"
   ]
  },
  {
   "cell_type": "code",
   "execution_count": null,
   "id": "3f1a6685",
   "metadata": {},
   "outputs": [],
   "source": []
  }
 ],
 "metadata": {
  "kernelspec": {
   "display_name": "Python 3.8.10 64-bit",
   "language": "python",
   "name": "python3"
  },
  "language_info": {
   "codemirror_mode": {
    "name": "ipython",
    "version": 3
   },
   "file_extension": ".py",
   "mimetype": "text/x-python",
   "name": "python",
   "nbconvert_exporter": "python",
   "pygments_lexer": "ipython3",
   "version": "3.8.10"
  },
  "vscode": {
   "interpreter": {
    "hash": "e7370f93d1d0cde622a1f8e1c04877d8463912d04d973331ad4851f04de6915a"
   }
  }
 },
 "nbformat": 4,
 "nbformat_minor": 5
}
